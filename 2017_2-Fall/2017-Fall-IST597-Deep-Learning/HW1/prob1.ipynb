{
 "cells": [
  {
   "cell_type": "code",
   "execution_count": 1,
   "metadata": {
    "collapsed": true
   },
   "outputs": [],
   "source": [
    "import os  \n",
    "import numpy as np  \n",
    "import pandas as pd  \n",
    "import matplotlib.pyplot as plt"
   ]
  },
  {
   "cell_type": "code",
   "execution_count": 2,
   "metadata": {
    "collapsed": true
   },
   "outputs": [],
   "source": [
    "def regress(X, theta):\n",
    "\t# WRITEME: write your code here to complete the routine\n",
    "    return np.array([(theta[0]+theta[1]*X[i,0])[0] for i in list(range(0,X.shape[0]))])"
   ]
  },
  {
   "cell_type": "code",
   "execution_count": 3,
   "metadata": {
    "collapsed": true
   },
   "outputs": [],
   "source": [
    "def gaussian_log_likelihood(mu, y):\n",
    "    # WRITEME: write your code here to complete the sub-routine\n",
    "    return np.log(1/np.sqrt(2*np.pi)*np.e**(-(1/2)*(y-mu)**2))"
   ]
  },
  {
   "cell_type": "code",
   "execution_count": 4,
   "metadata": {
    "collapsed": true
   },
   "outputs": [],
   "source": [
    "def computeCost(X, y, theta):\n",
    "    # loss is now Bernoulli cross-entropy/log likelihood\n",
    "    b = theta[0]\n",
    "    w = theta[1]\n",
    "    m = X.shape[0]\n",
    "    return (sum([(w[0]*X[i,0]+b[0]-y[i,0])**2/(2*m) for i in list(range(0,X.shape[0]))]))[0]"
   ]
  },
  {
   "cell_type": "code",
   "execution_count": 5,
   "metadata": {
    "collapsed": true,
    "scrolled": true
   },
   "outputs": [],
   "source": [
    "def computeGrad(X, y, theta): \n",
    "\t# WRITEME: write your code here to complete the routine\n",
    "\t# NOTE: you do not have to use the partial derivative symbols below, they are there to guide your thinking\n",
    "    b = theta[0]\n",
    "    w = theta[1]\n",
    "    m = X.shape[0]\n",
    "    dL_db = sum([(w[0]*X[i,0]+b[0]-y[i,0])*(1/m) for i in list(range(0,X.shape[0]))]) # derivative w.r.t. model weights w\n",
    "    dL_dw = sum([(w[0]*X[i,0]+b[0]-y[i,0])*X[i,0]*(1/m) for i in list(range(0,X.shape[0]))]) # derivative w.r.t model bias b\n",
    "    nabla = (dL_db, dL_dw) # nabla represents the full gradient\n",
    "    return nabla"
   ]
  },
  {
   "cell_type": "code",
   "execution_count": 74,
   "metadata": {
    "collapsed": true
   },
   "outputs": [],
   "source": [
    "def regress(X, theta):\n",
    "\t# WRITEME: write your code here to complete the routine\n",
    "    return np.array([(theta[0]+theta[1]*X[i,0])[0] for i in list(range(0,X.shape[0]))])\n",
    "\n",
    "def gaussian_log_likelihood(mu, y):\n",
    "    # WRITEME: write your code here to complete the sub-routine\n",
    "    return np.log(1/np.sqrt(2*np.pi)*np.e**(-(1/2)*(y-mu)**2))\n",
    "\n",
    "def computeCost(X, y, theta):\n",
    "    # loss is now Bernoulli cross-entropy/log likelihood\n",
    "    b = theta[0]\n",
    "    w = theta[1]\n",
    "    m = X.shape[0]\n",
    "    return (sum([(w[0]*X[i,0]+b[0]-y[i,0])**2/(2*m) for i in list(range(0,X.shape[0]))]))[0]\n",
    "\n",
    "def computeGrad(X, y, theta): \n",
    "\t# WRITEME: write your code here to complete the routine\n",
    "\t# NOTE: you do not have to use the partial derivative symbols below, they are there to guide your thinking\n",
    "    b = theta[0]\n",
    "    w = theta[1]\n",
    "    m = X.shape[0]\n",
    "    dL_db = sum([(w[0]*X[i,0]+b[0]-y[i,0])*(1/m) for i in list(range(0,X.shape[0]))]) # derivative w.r.t. model weights w\n",
    "    dL_dw = sum([(w[0]*X[i,0]+b[0]-y[i,0])*X[i,0]*(1/m) for i in list(range(0,X.shape[0]))]) # derivative w.r.t model bias b\n",
    "    nabla = (dL_db, dL_dw) # nabla represents the full gradient\n",
    "    return nabla\n",
    "\n",
    "path = os.getcwd() + '/data/prob1.dat'  \n",
    "data = pd.read_csv(path, header=None, names=['X', 'Y']) \n",
    "\n",
    "# display some information about the dataset itself here\n",
    "# WRITEME: write your code here to print out information/statistics about the data-set \"data\" using Pandas (consult the Pandas documentation to learn how)\n",
    "# WRITEME: write your code here to create a simple scatterplot of the dataset itself and print/save to disk the result\n",
    "\n",
    "# set X (training data) and y (target variable)\n",
    "cols = data.shape[1]  \n",
    "X = data.iloc[:,0:cols-1]  \n",
    "y = data.iloc[:,cols-1:cols] \n",
    "\n",
    "# convert from data frames to numpy matrices\n",
    "X = np.array(X.values)  \n",
    "y = np.array(y.values)"
   ]
  },
  {
   "cell_type": "code",
   "execution_count": 132,
   "metadata": {
    "collapsed": false,
    "scrolled": true
   },
   "outputs": [
    {
     "name": "stdout",
     "output_type": "stream",
     "text": [
      "-1 L = 32.072733877455676\n",
      " 0 L = 7.332417003345847\n",
      " 1 L = 5.977885788991407\n",
      " 2 L = 5.8968593158322955\n",
      " 3 L = 5.88522036513762\n",
      " 4 L = 5.8773989167416\n",
      " 5 L = 5.869824165932684\n",
      " 6 L = 5.8623014560824\n",
      " 7 L = 5.854819978731035\n",
      " 8 L = 5.847378937936584\n",
      " 9 L = 5.839978084105322\n",
      " 10 L = 5.832617198508578\n",
      " 11 L = 5.82529606520628\n",
      " 12 L = 5.818014469512058\n",
      " 13 L = 5.81077219790372\n",
      " 14 L = 5.803569038012446\n",
      " 15 L = 5.796404778616338\n",
      " 16 L = 5.78927920963418\n",
      " 17 L = 5.782192122119309\n",
      " 18 L = 5.775143308253467\n",
      " 19 L = 5.768132561340714\n",
      " 20 L = 5.761159675801369\n",
      " 21 L = 5.754224447165974\n",
      " 22 L = 5.747326672069316\n",
      " 23 L = 5.740466148244434\n",
      " 24 L = 5.73364267451671\n",
      " 25 L = 5.726856050797975\n",
      " 26 L = 5.720106078080622\n",
      " 27 L = 5.713392558431787\n",
      " 28 L = 5.706715294987526\n",
      " 29 L = 5.700074091947062\n",
      " 30 L = 5.693468754567036\n",
      " 31 L = 5.686899089155796\n",
      " 32 L = 5.680364903067708\n",
      " 33 L = 5.673866004697535\n",
      " 34 L = 5.667402203474779\n",
      " 35 L = 5.660973309858128\n",
      " 36 L = 5.65457913532988\n",
      " 37 L = 5.648219492390411\n",
      " 38 L = 5.641894194552698\n",
      " 39 L = 5.635603056336819\n",
      " 40 L = 5.629345893264548\n",
      " 41 L = 5.623122521853916\n",
      " 42 L = 5.616932759613862\n",
      " 43 L = 5.610776425038843\n",
      " 44 L = 5.604653337603549\n",
      " 45 L = 5.598563317757583\n",
      " 46 L = 5.592506186920206\n",
      " 47 L = 5.586481767475101\n",
      " 48 L = 5.5804898827651765\n",
      " 49 L = 5.574530357087355\n",
      " 50 L = 5.568603015687441\n",
      " 51 L = 5.56270768475501\n",
      " 52 L = 5.55684419141828\n",
      " 53 L = 5.551012363739074\n",
      " 54 L = 5.545212030707748\n",
      " 55 L = 5.539443022238199\n",
      " 56 L = 5.533705169162873\n",
      " 57 L = 5.527998303227797\n",
      " 58 L = 5.522322257087648\n",
      " 59 L = 5.516676864300854\n",
      " 60 L = 5.511061959324704\n",
      " 61 L = 5.505477377510489\n",
      " 62 L = 5.499922955098692\n",
      " 63 L = 5.494398529214174\n",
      " 64 L = 5.488903937861389\n",
      " 65 L = 5.483439019919663\n",
      " 66 L = 5.478003615138427\n",
      " 67 L = 5.472597564132561\n",
      " 68 L = 5.467220708377694\n",
      " 69 L = 5.461872890205558\n",
      " 70 L = 5.4565539527993705\n",
      " 71 L = 5.4512637401892405\n",
      " 72 L = 5.446002097247581\n",
      " 73 L = 5.440768869684573\n",
      " 74 L = 5.435563904043632\n",
      " 75 L = 5.430387047696916\n",
      " 76 L = 5.425238148840843\n",
      " 77 L = 5.420117056491648\n",
      " 78 L = 5.41502362048094\n",
      " 79 L = 5.40995769145132\n",
      " 80 L = 5.404919120851976\n",
      " 81 L = 5.399907760934364\n",
      " 82 L = 5.394923464747834\n",
      " 83 L = 5.389966086135337\n",
      " 84 L = 5.3850354797291535\n",
      " 85 L = 5.380131500946622\n",
      " 86 L = 5.375254005985879\n",
      " 87 L = 5.370402851821676\n",
      " 88 L = 5.365577896201155\n",
      " 89 L = 5.360778997639704\n",
      " 90 L = 5.356006015416792\n",
      " 91 L = 5.351258809571833\n",
      " 92 L = 5.346537240900121\n",
      " 93 L = 5.341841170948696\n",
      " 94 L = 5.337170462012319\n",
      " 95 L = 5.33252497712943\n",
      " 96 L = 5.327904580078124\n",
      " 97 L = 5.323309135372158\n",
      " 98 L = 5.318738508256978\n",
      " 99 L = 5.314192564705769\n",
      "w =  [[ 0.88838292]]\n",
      "b =  [-0.863249]\n",
      "-1 L = 32.072733877455676\n",
      " 0 L = 14.98396275623995\n",
      " 1 L = 9.056203941047668\n",
      " 2 L = 6.998880978009592\n",
      " 3 L = 6.283756679195575\n",
      " 4 L = 6.034085104841374\n",
      " 5 L = 5.945826960067563\n",
      " 6 L = 5.913547030682458\n",
      " 7 L = 5.900682327431495\n",
      " 8 L = 5.894553475901441\n",
      " 9 L = 5.8907634979403944\n",
      " 10 L = 5.887787597368801\n",
      " 11 L = 5.885096997646217\n",
      " 12 L = 5.882508323446064\n",
      " 13 L = 5.879957978209341\n",
      " 14 L = 5.877423902449822\n",
      " 15 L = 5.874898440980175\n",
      " 16 L = 5.8723789337673935\n",
      " 17 L = 5.869864453015338\n",
      " 18 L = 5.867354671645217\n",
      " 19 L = 5.864849470905552\n",
      " 20 L = 5.8623488042985095\n",
      " 21 L = 5.859852650392075\n",
      " 22 L = 5.8573609964561415\n",
      " 23 L = 5.854873832787828\n",
      " 24 L = 5.852391150743549\n",
      " 25 L = 5.849912942056601\n",
      " 26 L = 5.847439198600438\n",
      " 27 L = 5.844969912306629\n",
      " 28 L = 5.842505075136321\n",
      " 29 L = 5.84004467907039\n",
      " 30 L = 5.837588716105962\n",
      " 31 L = 5.835137178255222\n",
      " 32 L = 5.832690057544946\n",
      " 33 L = 5.830247346016373\n",
      " 34 L = 5.82780903572509\n",
      " 35 L = 5.825375118741022\n",
      " 36 L = 5.822945587148375\n",
      " 37 L = 5.820520433045627\n",
      " 38 L = 5.8180996485454815\n",
      " 39 L = 5.815683225774871\n",
      " 40 L = 5.813271156874895\n",
      " 41 L = 5.8108634340008205\n",
      " 42 L = 5.808460049322061\n",
      " 43 L = 5.806060995022112\n",
      " 44 L = 5.803666263298581\n",
      " 45 L = 5.801275846363112\n",
      " 46 L = 5.7988897364414\n",
      " 47 L = 5.796507925773134\n",
      " 48 L = 5.794130406611989\n",
      " 49 L = 5.791757171225603\n",
      " 50 L = 5.789388211895539\n",
      " 51 L = 5.7870235209172645\n",
      " 52 L = 5.784663090600137\n",
      " 53 L = 5.782306913267373\n",
      " 54 L = 5.779954981256007\n",
      " 55 L = 5.777607286916899\n",
      " 56 L = 5.775263822614672\n",
      " 57 L = 5.772924580727718\n",
      " 58 L = 5.770589553648157\n",
      " 59 L = 5.768258733781822\n",
      " 60 L = 5.765932113548226\n",
      " 61 L = 5.763609685380541\n",
      " 62 L = 5.761291441725568\n",
      " 63 L = 5.758977375043724\n",
      " 64 L = 5.756667477809007\n",
      " 65 L = 5.754361742508982\n",
      " 66 L = 5.752060161644727\n",
      " 67 L = 5.74976272773086\n",
      " 68 L = 5.747469433295477\n",
      " 69 L = 5.745180270880128\n",
      " 70 L = 5.74289523303981\n",
      " 71 L = 5.740614312342934\n",
      " 72 L = 5.738337501371296\n",
      " 73 L = 5.73606479272006\n",
      " 74 L = 5.733796178997734\n",
      " 75 L = 5.731531652826144\n",
      " 76 L = 5.729271206840409\n",
      " 77 L = 5.727014833688916\n",
      " 78 L = 5.724762526033295\n",
      " 79 L = 5.722514276548415\n",
      " 80 L = 5.7202700779223195\n",
      " 81 L = 5.718029922856239\n",
      " 82 L = 5.715793804064556"
     ]
    },
    {
     "name": "stderr",
     "output_type": "stream",
     "text": [
      "C:\\Users\\wmg97_000\\Anaconda3\\lib\\site-packages\\ipykernel_launcher.py:71: MatplotlibDeprecationWarning: pyplot.hold is deprecated.\n",
      "    Future behavior will be consistent with the long-time default:\n",
      "    plot commands add elements without first clearing the\n",
      "    Axes and/or Figure.\n",
      "C:\\Users\\wmg97_000\\Anaconda3\\lib\\site-packages\\matplotlib\\__init__.py:917: UserWarning: axes.hold is deprecated. Please remove it from your matplotlibrc and/or style files.\n",
      "  warnings.warn(self.msg_depr_set % key)\n",
      "C:\\Users\\wmg97_000\\Anaconda3\\lib\\site-packages\\matplotlib\\rcsetup.py:152: UserWarning: axes.hold is deprecated, will be removed in 3.0\n",
      "  warnings.warn(\"axes.hold is deprecated, will be removed in 3.0\")\n"
     ]
    },
    {
     "name": "stdout",
     "output_type": "stream",
     "text": [
      "\n",
      " 83 L = 5.713561714274784\n",
      " 84 L = 5.711333646227528\n",
      " 85 L = 5.709109592676477\n",
      " 86 L = 5.706889546388383\n",
      " 87 L = 5.704673500143021\n",
      " 88 L = 5.702461446733188\n",
      " 89 L = 5.700253378964645\n",
      " 90 L = 5.69804928965614\n",
      " 91 L = 5.695849171639347\n",
      " 92 L = 5.693653017758862\n",
      " 93 L = 5.691460820872158\n",
      " 94 L = 5.689272573849603\n",
      " 95 L = 5.687088269574389\n",
      " 96 L = 5.684907900942543\n",
      " 97 L = 5.682731460862882\n",
      " 98 L = 5.680558942257009\n",
      " 99 L = 5.67839033805928\n",
      "w =  [[ 0.82808702]]\n",
      "b =  [-0.26305598]\n",
      "-1 L = 32.072733877455676\n",
      " 0 L = 27.947619746824845\n",
      " 1 L = 24.472899368786848\n",
      " 2 L = 21.546014372181734\n",
      " 3 L = 19.080578470011062\n",
      " 4 L = 17.00382733794761\n",
      " 5 L = 15.254470612915165\n",
      " 6 L = 13.780882602778634\n",
      " 7 L = 12.539578296930152\n",
      " 8 L = 11.493929689633664\n",
      " 9 L = 10.613084522018331\n",
      " 10 L = 9.871055524005882\n",
      " 11 L = 9.245953270611224\n",
      " 12 L = 8.719340006549617\n",
      " 13 L = 8.275685364065543\n",
      " 14 L = 7.90190790678413\n",
      " 15 L = 7.586988965968785\n",
      " 16 L = 7.321647369638877\n",
      " 17 L = 7.098065462557549\n",
      " 18 L = 6.909658329204913\n",
      " 19 L = 6.750879407203458\n",
      " 20 L = 6.617056752907817\n",
      " 21 L = 6.504255125722263\n",
      " 22 L = 6.409159819877735\n",
      " 23 L = 6.328978814384746\n",
      " 24 L = 6.2613603526306845\n",
      " 25 L = 6.204323518572877\n",
      " 26 L = 6.156199760137971\n",
      " 27 L = 6.115583633599498\n",
      " 28 L = 6.081291314908755\n",
      " 29 L = 6.052325653234089\n",
      " 30 L = 6.027846735090003\n",
      " 31 L = 6.007147090109527\n",
      " 32 L = 5.989630806534878\n",
      " 33 L = 5.974795939916072\n",
      " 34 L = 5.962219695722613\n",
      " 35 L = 5.951545948459218\n",
      " 36 L = 5.942474728850201\n",
      " 37 L = 5.934753368754302\n",
      " 38 L = 5.928169042408084\n",
      " 39 L = 5.92254248381558\n",
      " 40 L = 5.917722694821568\n",
      " 41 L = 5.91358248765095\n",
      " 42 L = 5.9100147303301105\n",
      " 43 L = 5.906929184155137\n",
      " 44 L = 5.9042498398489744\n",
      " 45 L = 5.901912673771078\n",
      " 46 L = 5.899863757942711\n",
      " 47 L = 5.898057668096081\n",
      " 48 L = 5.896456142752756\n",
      " 49 L = 5.895026953747573\n",
      " 50 L = 5.893742954855768\n",
      " 51 L = 5.89258128043893\n",
      " 52 L = 5.891522670453741\n",
      " 53 L = 5.890550901897829\n",
      " 54 L = 5.889652309909042\n",
      " 55 L = 5.8888153843809\n",
      " 56 L = 5.888030430186463\n",
      " 57 L = 5.887289280980287\n",
      " 58 L = 5.886585058130071\n",
      " 59 L = 5.885911967661463\n",
      " 60 L = 5.885265129222036\n",
      " 61 L = 5.884640432015316\n",
      " 62 L = 5.884034413452097\n",
      " 63 L = 5.88344415693683\n",
      " 64 L = 5.882867205771725\n",
      " 65 L = 5.882301490637018\n",
      " 66 L = 5.881745268506643\n",
      " 67 L = 5.881197071196094\n",
      " 68 L = 5.880655662023556\n",
      " 69 L = 5.880119999305071\n",
      " 70 L = 5.879589205605949\n",
      " 71 L = 5.879062541840888\n",
      " 72 L = 5.878539385458102\n",
      " 73 L = 5.8780192120635615\n",
      " 74 L = 5.877501579942842\n",
      " 75 L = 5.876986117023634\n",
      " 76 L = 5.876472509894125\n",
      " 77 L = 5.8759604945530395\n",
      " 78 L = 5.875449848618252\n",
      " 79 L = 5.87494038476401\n",
      " 80 L = 5.874431945193004\n",
      " 81 L = 5.873924396980148\n",
      " 82 L = 5.873417628150559\n",
      " 83 L = 5.872911544375994\n",
      " 84 L = 5.872406066192208\n",
      " 85 L = 5.871901126655109\n",
      " 86 L = 5.871396669366513\n",
      " 87 L = 5.870892646811178\n",
      " 88 L = 5.870389018956099\n",
      " 89 L = 5.869885752070661\n",
      " 90 L = 5.86938281773284\n",
      " 91 L = 5.8688801919921065\n",
      " 92 L = 5.868377854664337\n",
      " 93 L = 5.867875788737932\n",
      " 94 L = 5.867373979873506\n",
      " 95 L = 5.866872415982551\n",
      " 96 L = 5.86637108687251\n",
      " 97 L = 5.865869983947794\n",
      " 98 L = 5.865369099957978\n",
      " 99 L = 5.8648684287857\n",
      "w =  [[ 0.80063674]]\n",
      "b =  [ 0.00868909]\n"
     ]
    },
    {
     "name": "stderr",
     "output_type": "stream",
     "text": [
      "C:\\Users\\wmg97_000\\Anaconda3\\lib\\site-packages\\ipykernel_launcher.py:77: MatplotlibDeprecationWarning: pyplot.hold is deprecated.\n",
      "    Future behavior will be consistent with the long-time default:\n",
      "    plot commands add elements without first clearing the\n",
      "    Axes and/or Figure.\n"
     ]
    },
    {
     "data": {
      "image/png": "[encoded data removed]",
      "text/plain": [
       "<matplotlib.figure.Figure at 0x210717a41d0>"
      ]
     },
     "metadata": {},
     "output_type": "display_data"
    }
   ],
   "source": [
    "import os  \n",
    "import numpy as np  \n",
    "import pandas as pd  \n",
    "import matplotlib.pyplot as plt  \n",
    "\n",
    "'''\n",
    "IST 597: Foundations of Deep Learning\n",
    "Problem 1: Univariate Regression\n",
    "\n",
    "@author - Alexander G. Ororbia II\n",
    "\n",
    "    This program is free software: you can redistribute it and/or modify\n",
    "    it under the terms of the GNU General Public License as published by\n",
    "    the Free Software Foundation, either version 3 of the License, or\n",
    "    (at your option) any later version.\n",
    "\n",
    "    This program is distributed in the hope that it will be useful,\n",
    "    but WITHOUT ANY WARRANTY; without even the implied warranty of\n",
    "    MERCHANTABILITY or FITNESS FOR A PARTICULAR PURPOSE.  See the\n",
    "    GNU General Public License for more details.\n",
    "\n",
    "    You should have received a copy of the GNU General Public License\n",
    "    along with this program.  If not, see <http://www.gnu.org/licenses/>.\n",
    "'''\n",
    "\n",
    "# NOTE: you will need to tinker with the meta-parameters below yourself (do not think of them as defaults by any means)\n",
    "# meta-parameters for program\n",
    "ALPHA = [0.015, 0.005, 0.001]\n",
    "for alpha in ALPHA:\n",
    "    alpha  # step size coefficient\n",
    "    eps = 0.001 # controls convergence criterion\n",
    "    n_epoch = 100 # number of epochs (full passes through the dataset)\n",
    "\n",
    "    # begin simulation\n",
    "\n",
    "\n",
    "    # convert to numpy arrays and initalize the parameter array theta \n",
    "    w = np.zeros((1,X.shape[1]))\n",
    "    b = np.array([0])\n",
    "    theta = (b, w)\n",
    "\n",
    "    L = computeCost(X, y, theta)\n",
    "    print(\"-1 L = {0}\".format(L))\n",
    "    L_best = L\n",
    "    Losses = np.array([])\n",
    "    i = 0\n",
    "    cost = [] # you can use this list variable to help you create the loss versus epoch plot at the end (if you want)\n",
    "    while(i < n_epoch):\n",
    "        dL_db, dL_dw = computeGrad(X, y, theta)\n",
    "        b = theta[0]\n",
    "        w = theta[1]\n",
    "    \n",
    "        # update rules go here...\n",
    "        # WRITEME: write your code here to perform a step of gradient descent & record anything else desired for later\n",
    "        b = b - alpha*dL_db\n",
    "        w = w - alpha*dL_dw\n",
    "        # (note: don't forget to override the theta variable...)\n",
    "        theta = (b, w)\n",
    "    \n",
    "        L = computeCost(X, y, theta) # track our loss after performing a single step\n",
    "        Losses = np.hstack((Losses,np.array([L])))\n",
    "        print(\" {0} L = {1}\".format(i,L))\n",
    "        i += 1\n",
    "    # print parameter values found after the search\n",
    "    print(\"w = \",w)\n",
    "    print(\"b = \",b)\n",
    "\n",
    "    # visualize the loss as a function of passes through the dataset\n",
    "    # WRITEME: write your code here create and save a plot of loss versus epoch\n",
    "    plt.plot(np.array(range(0,Losses.shape[0])),Losses, label = r'$\\alpha = $'+str(alpha))\n",
    "    plt.hold(True)\n",
    "\n",
    "plt.legend()\n",
    "plt.title('Epoch-Loss')\n",
    "plt.xlabel(\"Epoch\")\n",
    "plt.ylabel(\"Loss\")\n",
    "plt.hold(False)\n",
    "plt.savefig('Epoch_Loss.png', dpi = 400)\n",
    "\n",
    "plt.show()"
   ]
  },
  {
   "cell_type": "code",
   "execution_count": 133,
   "metadata": {
    "collapsed": false
   },
   "outputs": [
    {
     "ename": "IndentationError",
     "evalue": "unexpected indent (<ipython-input-133-b10c12479f2d>, line 2)",
     "output_type": "error",
     "traceback": [
      "\u001b[1;36m  File \u001b[1;32m\"<ipython-input-133-b10c12479f2d>\"\u001b[1;36m, line \u001b[1;32m2\u001b[0m\n\u001b[1;33m    kludge = 0.25 # helps with printing the plots (you can tweak this value if you like)\u001b[0m\n\u001b[1;37m    ^\u001b[0m\n\u001b[1;31mIndentationError\u001b[0m\u001b[1;31m:\u001b[0m unexpected indent\n"
     ]
    }
   ],
   "source": [
    "\n",
    "    kludge = 0.25 # helps with printing the plots (you can tweak this value if you like)\n",
    "    # visualize the fit against the data\n",
    "    X_test = np.linspace(data.X.min(), data.X.max(), 100)\n",
    "    X_test = np.expand_dims(X_test, axis=1)\n",
    "    \n",
    "    plt.plot(X_test, regress(X_test, theta), label=\"Model\")\n",
    "    plt.scatter(X[:,0], y, edgecolor='g', s=20, label=\"Samples\")\n",
    "    plt.xlabel(\"x\")\n",
    "    plt.ylabel(\"y\")\n",
    "    plt.xlim((np.amin(X_test) - kludge, np.amax(X_test) + kludge))\n",
    "    plt.ylim((np.amin(y) - kludge, np.amax(y) + kludge))\n",
    "    plt.title(r'$\\alpha = $'+str(alpha))\n",
    "    plt.legend(loc=\"best\")\n",
    "    # WRITEME: write your code here to save plot to disk (look up documentation/inter-webs for matplotlib)\n",
    "\n",
    "    plt.savefig('Linear_Regression_'+str(alpha)[2:]+'.png')\n",
    "    plt.show() # convenience command to force plots to pop up on desktop"
   ]
  },
  {
   "cell_type": "code",
   "execution_count": 16,
   "metadata": {
    "collapsed": true
   },
   "outputs": [],
   "source": [
    "def f(x):\n",
    "    return b**2\n",
    "b = 3"
   ]
  },
  {
   "cell_type": "code",
   "execution_count": 17,
   "metadata": {
    "collapsed": false
   },
   "outputs": [
    {
     "data": {
      "text/plain": [
       "9"
      ]
     },
     "execution_count": 17,
     "metadata": {},
     "output_type": "execute_result"
    }
   ],
   "source": [
    "f(3)"
   ]
  },
  {
   "cell_type": "code",
   "execution_count": 13,
   "metadata": {
    "collapsed": false
   },
   "outputs": [
    {
     "data": {
      "text/plain": [
       "9"
      ]
     },
     "execution_count": 13,
     "metadata": {},
     "output_type": "execute_result"
    }
   ],
   "source": [
    "f(x)"
   ]
  },
  {
   "cell_type": "code",
   "execution_count": null,
   "metadata": {
    "collapsed": true
   },
   "outputs": [],
   "source": []
  },
  {
   "cell_type": "code",
   "execution_count": 113,
   "metadata": {
    "collapsed": false
   },
   "outputs": [
    {
     "name": "stderr",
     "output_type": "stream",
     "text": [
      "C:\\Users\\wmg97_000\\Anaconda3\\lib\\site-packages\\ipykernel_launcher.py:3: MatplotlibDeprecationWarning: pyplot.hold is deprecated.\n",
      "    Future behavior will be consistent with the long-time default:\n",
      "    plot commands add elements without first clearing the\n",
      "    Axes and/or Figure.\n",
      "  This is separate from the ipykernel package so we can avoid doing imports until\n",
      "C:\\Users\\wmg97_000\\Anaconda3\\lib\\site-packages\\matplotlib\\__init__.py:917: UserWarning: axes.hold is deprecated. Please remove it from your matplotlibrc and/or style files.\n",
      "  warnings.warn(self.msg_depr_set % key)\n",
      "C:\\Users\\wmg97_000\\Anaconda3\\lib\\site-packages\\matplotlib\\rcsetup.py:152: UserWarning: axes.hold is deprecated, will be removed in 3.0\n",
      "  warnings.warn(\"axes.hold is deprecated, will be removed in 3.0\")\n"
     ]
    },
    {
     "data": {
      "image/png": "[encoded data removed]",
      "text/plain": [
       "<matplotlib.figure.Figure at 0x21071954f98>"
      ]
     },
     "metadata": {},
     "output_type": "display_data"
    },
    {
     "name": "stderr",
     "output_type": "stream",
     "text": [
      "C:\\Users\\wmg97_000\\Anaconda3\\lib\\site-packages\\ipykernel_launcher.py:7: MatplotlibDeprecationWarning: pyplot.hold is deprecated.\n",
      "    Future behavior will be consistent with the long-time default:\n",
      "    plot commands add elements without first clearing the\n",
      "    Axes and/or Figure.\n",
      "  import sys\n"
     ]
    }
   ],
   "source": [
    "plt.plot(np.random.rand(3), label = 'test')\n",
    "plt.legend() ## Calling the legend to show up\n",
    "plt.hold(True)\n",
    "plt.plot(np.random.rand(3),label = 'strange')\n",
    "plt.legend() ## Calling the legend to show up\n",
    "plt.show()\n",
    "plt.hold(False)"
   ]
  },
  {
   "cell_type": "code",
   "execution_count": 79,
   "metadata": {
    "collapsed": false
   },
   "outputs": [
    {
     "data": {
      "text/plain": [
       "array([ 0.59516619,  0.77828006,  0.14322844])"
      ]
     },
     "execution_count": 79,
     "metadata": {},
     "output_type": "execute_result"
    }
   ],
   "source": [
    "np.random.rand(3)"
   ]
  },
  {
   "cell_type": "code",
   "execution_count": 50,
   "metadata": {
    "collapsed": false
   },
   "outputs": [
    {
     "data": {
      "text/plain": [
       "'shit0.01'"
      ]
     },
     "execution_count": 50,
     "metadata": {},
     "output_type": "execute_result"
    }
   ],
   "source": [
    "'shit'+str(alpha)"
   ]
  },
  {
   "cell_type": "code",
   "execution_count": 40,
   "metadata": {
    "collapsed": false
   },
   "outputs": [
    {
     "ename": "SyntaxError",
     "evalue": "unexpected character after line continuation character (<ipython-input-40-35c034d8a80f>, line 1)",
     "output_type": "error",
     "traceback": [
      "\u001b[1;36m  File \u001b[1;32m\"<ipython-input-40-35c034d8a80f>\"\u001b[1;36m, line \u001b[1;32m1\u001b[0m\n\u001b[1;33m    \\r'$\\alpha = $'*str(alpha)\u001b[0m\n\u001b[1;37m                              ^\u001b[0m\n\u001b[1;31mSyntaxError\u001b[0m\u001b[1;31m:\u001b[0m unexpected character after line continuation character\n"
     ]
    }
   ],
   "source": [
    "r'$\\alpha = $'*str(alpha)"
   ]
  },
  {
   "cell_type": "code",
   "execution_count": null,
   "metadata": {
    "collapsed": true
   },
   "outputs": [],
   "source": []
  }
 ],
 "metadata": {
  "anaconda-cloud": {},
  "kernelspec": {
   "display_name": "Python [default]",
   "language": "python",
   "name": "python3"
  },
  "language_info": {
   "codemirror_mode": {
    "name": "ipython",
    "version": 3
   },
   "file_extension": ".py",
   "mimetype": "text/x-python",
   "name": "python",
   "nbconvert_exporter": "python",
   "pygments_lexer": "ipython3",
   "version": "3.5.2"
  }
 },
 "nbformat": 4,
 "nbformat_minor": 2
}
