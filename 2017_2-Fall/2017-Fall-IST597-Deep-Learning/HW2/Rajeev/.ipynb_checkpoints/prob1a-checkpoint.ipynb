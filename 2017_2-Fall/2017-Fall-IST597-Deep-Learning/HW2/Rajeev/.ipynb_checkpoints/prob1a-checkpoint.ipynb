{
 "cells": [
  {
   "cell_type": "code",
   "execution_count": 1,
   "metadata": {
    "collapsed": true
   },
   "outputs": [],
   "source": [
    "import os\n",
    "import numpy as np\n",
    "import pandas as pd\n",
    "import matplotlib.pyplot as plt\n",
    "import sys\n",
    "\n",
    "plt.rcParams['figure.figsize'] = (10.0, 8.0) # set default size of plots\n",
    "plt.rcParams['image.interpolation'] = 'nearest'\n",
    "plt.rcParams['image.cmap'] = 'gray'\n",
    "\n",
    "'''\n",
    "Problem 1a: Softmax Regression \\& the XOR Problem\n",
    "\n",
    "@author - Min-Chun Wu\n",
    "'''\n",
    "\n",
    "def computeNumGrad(X,y,theta,reg): # returns approximate nabla\n",
    "# WRITEME: write your code here to complete the routine\n",
    "    eps = 1e-4\n",
    "    nabla_n = []\n",
    "# NOTE: you do not have to use any of the code here in your implementation...\n",
    "    for i in range(len(theta)):\n",
    "        param = theta[i]\n",
    "        param_grad = np.zeros(param.shape)\n",
    "        it = np.nditer(param, flags=['multi_index'], op_flags=['readwrite'])\n",
    "        while not it.finished:\n",
    "        # Initializing the parameters at (x+eps) and (x-eps)\n",
    "            theta_plus_eps = theta\n",
    "            theta_minus_eps = theta\n",
    "            ix = it.multi_index\n",
    "        # Evaluate function at x+eps i.e f(x+eps)\n",
    "            theta_plus_eps[i][ix] = param[ix] + eps\n",
    "            f_x_plus_eps = computeCost(X,y,theta_plus_eps,reg)\n",
    "        # Reset theta\n",
    "            theta[i][ix] = param[ix] - eps        \n",
    "        # Evaluate function at x i.e f(x-eps)\n",
    "            theta_minus_eps[i][ix] = param[ix] - eps\n",
    "            f_x_minus_eps = computeCost(X,y,theta_minus_eps,reg)\n",
    "        # Reset theta\n",
    "            theta[i][ix] = param[ix] + eps\n",
    "        # Finally gradient at x\n",
    "            param_grad[ix] = (f_x_plus_eps - f_x_minus_eps)/(2*eps)\n",
    "        # Iterating over all dimensions\n",
    "            it.iternext()\n",
    "        nabla_n.append(param_grad)\n",
    "    return tuple(nabla_n)\n",
    "\n",
    "def softmax_loss(X, y):\n",
    "# Forward pass\n",
    "    N = X.shape[0]\n",
    "#    X -= np.max(X, axis=1, keepdims=True)\n",
    "    exp_vals = np.exp(X)\n",
    "    probs = exp_vals / np.sum(exp_vals, axis=1, keepdims=True)\n",
    "    loss = -np.mean(np.log(probs[range(N), y]))\n",
    "# Backward pass\n",
    "    dX = np.array(probs, copy=True)\n",
    "    dX[range(N), y] -= 1\n",
    "    dX /= N\n",
    "    return loss, probs, dX\n",
    "\n",
    "def computeGrad(X,y,theta,reg): # returns nabla\n",
    "# WRITEME: write your code here to complete the routine\n",
    "    W, b = theta[0], theta[1]\n",
    "    f = X.dot(W) + b\n",
    "    df = softmax_loss(f,y)[2]\n",
    "    dW = np.dot(X.T, df) + reg * W\n",
    "    db = np.sum(df, axis=0)\n",
    "    return (dW,db)\n",
    "\n",
    "def computeCost(X,y,theta,reg):\n",
    "# WRITEME: write your code here to complete the routine\n",
    "    W, b = theta[0], theta[1]\n",
    "    N = X.shape[0]\n",
    "    f = X.dot(W) + b\n",
    "    data_loss = softmax_loss(f,y)[0]\n",
    "    reg_loss = 0.5 * reg * np.sum(W**2)\n",
    "    cost = data_loss + reg_loss\n",
    "    return cost\n",
    "\n",
    "def predict(X,theta):\n",
    "# WRITEME: write your code here to complete the routine\n",
    "    W, b = theta[0], theta[1]\n",
    "# evaluate class scores\n",
    "    scores = X.dot(W) + b\n",
    "    probs = np.exp(scores - np.max(scores, axis=1, keepdims=True))\n",
    "    probs /= np.sum(probs, axis=1, keepdims=True)\n",
    "    return scores, probs"
   ]
  },
  {
   "cell_type": "code",
   "execution_count": 2,
   "metadata": {
    "collapsed": true
   },
   "outputs": [],
   "source": [
    "np.random.seed(0)\n",
    "# Load in the data from disk\n",
    "path = os.getcwd() + '/data/xor.dat'  \n",
    "data = pd.read_csv(path, header=None) "
   ]
  },
  {
   "cell_type": "code",
   "execution_count": 4,
   "metadata": {},
   "outputs": [],
   "source": [
    "# set X (training data) and y (target variable)\n",
    "cols = data.shape[1]  \n",
    "X = data.iloc[:,0:cols-1]  \n",
    "y = data.iloc[:,cols-1:cols] \n",
    "\n",
    "# convert from data frames to numpy matrices\n",
    "X = np.array(X.values)  \n",
    "y = np.array(y.values)\n",
    "y = y.flatten()"
   ]
  },
  {
   "cell_type": "code",
   "execution_count": 5,
   "metadata": {
    "collapsed": true
   },
   "outputs": [],
   "source": [
    "# set X (training data) and y (target variable)\n",
    "cols = data.shape[1]  \n",
    "X = data.iloc[:,0:cols-1]  \n",
    "y = data.iloc[:,cols-1:cols] \n",
    "\n",
    "# convert from data frames to numpy matrices\n",
    "X = np.array(X.values)  \n",
    "y = np.array(y.values)\n",
    "y = y.flatten()"
   ]
  },
  {
   "cell_type": "code",
   "execution_count": 7,
   "metadata": {},
   "outputs": [
    {
     "data": {
      "text/plain": [
       "array([0, 1, 1, 0], dtype=int64)"
      ]
     },
     "execution_count": 7,
     "metadata": {},
     "output_type": "execute_result"
    }
   ],
   "source": [
    "y"
   ]
  },
  {
   "cell_type": "code",
   "execution_count": null,
   "metadata": {
    "collapsed": true
   },
   "outputs": [],
   "source": []
  }
 ],
 "metadata": {
  "kernelspec": {
   "display_name": "Python 3",
   "language": "python",
   "name": "python3"
  },
  "language_info": {
   "codemirror_mode": {
    "name": "ipython",
    "version": 3
   },
   "file_extension": ".py",
   "mimetype": "text/x-python",
   "name": "python",
   "nbconvert_exporter": "python",
   "pygments_lexer": "ipython3",
   "version": "3.6.2"
  }
 },
 "nbformat": 4,
 "nbformat_minor": 2
}
